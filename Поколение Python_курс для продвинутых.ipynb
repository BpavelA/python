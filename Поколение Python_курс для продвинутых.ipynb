{
 "cells": [
  {
   "cell_type": "code",
   "execution_count": 1,
   "metadata": {},
   "outputs": [
    {
     "name": "stdout",
     "output_type": "stream",
     "text": [
      "Привет!\n",
      "4 р. 20 коп.\n"
     ]
    }
   ],
   "source": [
    "#   Стоимость строки\n",
    "#   Дана строка текста. Напишите программу для подсчета стоимости строки, исходя из того, что один любой символ\n",
    "#   (в том числе пробел) стоит 6060 копеек. Ответ дайте в рублях и копейках в соответствии с примерами.\n",
    "\n",
    "text = input()\n",
    "worth = (len(text) * 60)\n",
    "print(worth // 100, 'р.', worth % 100, 'коп.')"
   ]
  },
  {
   "cell_type": "code",
   "execution_count": 2,
   "metadata": {},
   "outputs": [
    {
     "name": "stdout",
     "output_type": "stream",
     "text": [
      "Hello world\n",
      "2\n"
     ]
    }
   ],
   "source": [
    "print(len(input().split()))"
   ]
  },
  {
   "cell_type": "code",
   "execution_count": 4,
   "metadata": {},
   "outputs": [
    {
     "name": "stdout",
     "output_type": "stream",
     "text": [
      "2020\n",
      "Крыса\n"
     ]
    }
   ],
   "source": [
    "year = int(input())\n",
    "zodiac = [ 'Обезьяна', 'Петух', 'Собака', 'Свинья', 'Крыса', 'Бык', 'Тигр', 'Заяц', 'Дракон', 'Змея', 'Лошадь', 'Овца']\n",
    "print(zodiac[year % 12])"
   ]
  },
  {
   "cell_type": "code",
   "execution_count": 31,
   "metadata": {},
   "outputs": [
    {
     "name": "stdout",
     "output_type": "stream",
     "text": [
      "25000\n",
      "52\n"
     ]
    }
   ],
   "source": [
    "n = input()\n",
    "if len(n) == 5:\n",
    "    print(int(n[::-1]))\n",
    "elif len(n) == 6:\n",
    "    print(int(n[0] + n[7:0:-1]))"
   ]
  },
  {
   "cell_type": "code",
   "execution_count": 58,
   "metadata": {},
   "outputs": [
    {
     "name": "stdout",
     "output_type": "stream",
     "text": [
      "937600000\n",
      "937,600,000\n"
     ]
    }
   ],
   "source": [
    "#   Standard American Convention\n",
    "\n",
    "#   На вход программе подаётся натуральное число. \n",
    "#   Напишите программу, которая вставляет в заданное число запятые \n",
    "#   в соответствии со стандартным американским соглашением о запятых в больших числах.\n",
    "\n",
    "n = input()\n",
    "converted = ''\n",
    "if 0 < int(n) < 1000:\n",
    "    print(n)\n",
    "\n",
    "    \n",
    "elif int(n) >= 1000:\n",
    "    counter = 0\n",
    "    for i in n[::-1]:\n",
    "        converted += i\n",
    "        counter += 1\n",
    "        if counter == 3:\n",
    "            converted += ','\n",
    "            counter = 0\n",
    "if converted.endswith(',') == True:\n",
    "    print(converted[len(converted) - 2::-1])\n",
    "else:\n",
    "    print(converted[::-1])"
   ]
  },
  {
   "cell_type": "code",
   "execution_count": 2,
   "metadata": {},
   "outputs": [
    {
     "name": "stdout",
     "output_type": "stream",
     "text": [
      "2\n",
      "1 4\n",
      "3 -1\n",
      "Первая четверть: \n",
      "1\n",
      "Вторая четверть: \n",
      "0\n",
      "Третья четверть: \n",
      "0\n",
      "Четвертая четверть: \n",
      "1\n"
     ]
    }
   ],
   "source": [
    "n = int(input())\n",
    "counter1 = 0\n",
    "counter2 = 0\n",
    "counter3 = 0\n",
    "counter4 = 0\n",
    "for i in range(n):\n",
    "    xy = input().split()\n",
    "    if int(xy[0]) > 0 and int(xy[1]) > 0:\n",
    "        counter1 += 1\n",
    "    elif int(xy[0]) < 0 and int(xy[1]) > 0:\n",
    "        counter2 += 1\n",
    "    elif int(xy[0]) < 0 and int(xy[1]) < 0:\n",
    "        counter3 += 1\n",
    "    elif int(xy[0]) > 0 and int(xy[1]) < 0:\n",
    "        counter4 += 1\n",
    "print('Первая четверть:', counter1)\n",
    "print('Вторая четверть:', counter2)\n",
    "print('Третья четверть:', counter3)\n",
    "print('Четвертая четверть:', counter4)"
   ]
  },
  {
   "cell_type": "code",
   "execution_count": 14,
   "metadata": {},
   "outputs": [
    {
     "name": "stdout",
     "output_type": "stream",
     "text": [
      "1 1 3 2 2 1 1 1 1\n",
      "1\n"
     ]
    }
   ],
   "source": [
    "#   Больше предыдущего\n",
    "#   На вход программе подается строка текста из натуральных чисел. \n",
    "#   Из неё формируется список чисел. Напишите программу подсчета количества чисел, которые больше предшествующего им\n",
    "#   в этом списке числа, то есть, стоят вслед за меньшим числом.\n",
    "\n",
    "a = input().split()\n",
    "counter = 0\n",
    "for i in range(1, len(a)):\n",
    "    if int(a[i]) > int(a[i - 1]):\n",
    "        counter += 1\n",
    "print(counter)"
   ]
  },
  {
   "cell_type": "code",
   "execution_count": 2,
   "metadata": {},
   "outputs": [
    {
     "name": "stdout",
     "output_type": "stream",
     "text": [
      "5\n",
      "2\n",
      "[1, 2, 3, 4, 5]\n"
     ]
    }
   ],
   "source": [
    "n, k = int(input()), int(input())\n",
    "circle = [i for i in range(1, n + 1)]\n",
    "\n",
    "#while len(circle) > 1:\n",
    "for i in range(len(circle)):\n",
    "    if circle[i] % k == 0:\n",
    "        circle[i] == 'a'\n",
    "#circle = [i for i in circle if i != 'a']\n",
    "print(circle)"
   ]
  },
  {
   "cell_type": "code",
   "execution_count": 2,
   "metadata": {},
   "outputs": [
    {
     "name": "stdout",
     "output_type": "stream",
     "text": [
      "1 2 3 4 5\n",
      "2 1 4 3 5\n"
     ]
    }
   ],
   "source": [
    "a = input().split()\n",
    "for i in range(1, len(a), 2):\n",
    "  a[i], a[i - 1] = a[i - 1], a[i]\n",
    "print(*a)"
   ]
  },
  {
   "cell_type": "code",
   "execution_count": 3,
   "metadata": {},
   "outputs": [
    {
     "name": "stdout",
     "output_type": "stream",
     "text": [
      "489 483 43 2 3 84 1 4 3 2 5 4 3 13\n",
      "13 489 483 43 2 3 84 1 4 3 2 5 4 3\n"
     ]
    }
   ],
   "source": [
    "a = input().split()\n",
    "print(*([a[-1]] + a[:len(a) - 1]))"
   ]
  },
  {
   "cell_type": "code",
   "execution_count": 4,
   "metadata": {},
   "outputs": [
    {
     "name": "stdout",
     "output_type": "stream",
     "text": [
      "2 2 5 5 5 5 8 10 10\n",
      "4\n"
     ]
    }
   ],
   "source": [
    "a = input().split()\n",
    "counter = 1\n",
    "for i in range(1, len(a)):\n",
    "    if a[i] != a[i - 1]:\n",
    "        counter += 1\n",
    "print(counter)"
   ]
  },
  {
   "cell_type": "code",
   "execution_count": 3,
   "metadata": {},
   "outputs": [
    {
     "name": "stdout",
     "output_type": "stream",
     "text": [
      "5\n",
      "1\n",
      "999\n",
      "87\n",
      "33\n",
      "352\n",
      "999\n",
      "ДА\n"
     ]
    }
   ],
   "source": [
    "#   Произведение чисел\n",
    "#   Напишите программу для определения, является ли число произведением двух чисел из данного набора, \n",
    "#   выводящую результат в виде ответа «ДА» или «НЕТ».\n",
    "\n",
    "n = int(input())\n",
    "collection = [int(input()) for _ in range(n)]\n",
    "product = int(input())\n",
    "flag = False\n",
    "for i in range(n):\n",
    "    for j in range(i + 1, n):\n",
    "        if collection[i] * collection[j] == product:\n",
    "            flag = True\n",
    "            break\n",
    "    if flag:\n",
    "        break\n",
    "if flag:\n",
    "    print('ДА')\n",
    "else:\n",
    "    print('НЕТ')"
   ]
  },
  {
   "cell_type": "code",
   "execution_count": 2,
   "metadata": {},
   "outputs": [
    {
     "name": "stdout",
     "output_type": "stream",
     "text": [
      "ножницы\n",
      "камень\n",
      "Руслан\n"
     ]
    }
   ],
   "source": [
    "timur, ruslan = input(), input()\n",
    "combination = timur + ' '+ ruslan\n",
    "collection = ['бумага ножницы', 'ящерица ножницы', 'камень бумага', 'Спок бумага', 'ножницы камень', 'ящерица камень',\n",
    "              \n",
    "              'Спок ящерица', 'бумага ящерица', 'камень Спок', 'ножницы Спок']\n",
    "\n",
    "if ruslan == timur:\n",
    "    print('ничья')\n",
    "elif combination in collection:\n",
    "    print('Руслан')\n",
    "else:\n",
    "    print('Тимур') \n",
    "\n",
    "# elif combination == (' ').join((collection[0].split())[::-1]):\n",
    "    #print('Руслан')"
   ]
  },
  {
   "cell_type": "code",
   "execution_count": 3,
   "metadata": {},
   "outputs": [
    {
     "name": "stdout",
     "output_type": "stream",
     "text": [
      "ООООРРРРОРОРРРРРРРРООРОРОРРРРРРРРРРРРРРРРРРРРРРРРРРРРРРР\n",
      "31\n"
     ]
    }
   ],
   "source": [
    "#   Орел и решка\n",
    "#   Дана строка текста, состоящая из букв русского алфавита \"О\" и \"Р\". \n",
    "#   Буква \"О\" – соответствует выпадению Орла, а буква \"Р\" – соответствует выпадению Решки. \n",
    "#   Напишите программу, которая подсчитывает наибольшее количество подряд выпавших Решек.\n",
    "\n",
    "a = input().split('О')\n",
    "print(len(max(a)))"
   ]
  },
  {
   "cell_type": "code",
   "execution_count": null,
   "metadata": {},
   "outputs": [],
   "source": []
  }
 ],
 "metadata": {
  "kernelspec": {
   "display_name": "Python 3",
   "language": "python",
   "name": "python3"
  },
  "language_info": {
   "codemirror_mode": {
    "name": "ipython",
    "version": 3
   },
   "file_extension": ".py",
   "mimetype": "text/x-python",
   "name": "python",
   "nbconvert_exporter": "python",
   "pygments_lexer": "ipython3",
   "version": "3.8.10"
  }
 },
 "nbformat": 4,
 "nbformat_minor": 4
}
